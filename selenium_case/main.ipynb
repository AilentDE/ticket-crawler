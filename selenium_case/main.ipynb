{
 "cells": [
  {
   "cell_type": "code",
   "execution_count": null,
   "metadata": {},
   "outputs": [],
   "source": [
    "# Enviroment\n",
    "from dotenv import load_dotenv\n",
    "import os\n",
    "\n",
    "load_dotenv('./settings.txt')\n",
    "\n",
    "class UserEnv:\n",
    "    email = os.getenv(\"USER_EMAIL\", \"\")\n",
    "    password = os.getenv(\"USER_PASSWORD\", \"\")\n",
    "    if not email or not password:\n",
    "        raise ValueError(\"USER_EMAIL or USER_PASSWORD is not set\")\n",
    "    print(f\"[USER LOGIN]\\nEmail: {email}\\nPassword: {password}\\n\")\n",
    "\n",
    "class JobEnv:\n",
    "    production_id = os.getenv(\"PRODUCTION_ID\", \"\")\n",
    "    start_date = os.getenv(\"START_DATE\", \"\")\n",
    "    start_time = os.getenv(\"START_TIME\", \"\")\n",
    "    if not production_id or not start_date or not start_time:\n",
    "        raise ValueError(\"PRODUCTION_ID, START_DATE, START_TIME is not set\")\n",
    "    print(f\"[JOB]\\nProduction ID: {production_id}\\nStart Date: {start_date}\\nStart Time: {start_time}\\n\")\n",
    "\n",
    "class PayCardEnv:\n",
    "    type = os.getenv(\"PAY_CARD_TYPE\", \"\")\n",
    "    number = os.getenv(\"PAY_CARD_NUMBER\", \"\")\n",
    "    exp = os.getenv(\"PAY_CARD_EXP\", \"\")\n",
    "    cvc = os.getenv(\"PAY_CARD_CVC\", \"\")\n",
    "    true_pay = os.getenv(\"TRUE_PAY\", \"0\")\n",
    "    if not type or not number or not exp or not cvc:\n",
    "        raise ValueError(\"PAY_CARD_TYPE, PAY_CARD_NUMBER, PAY_CARD_EXP, PAY_CARD_CVC is not set\")\n",
    "    if len(number.split(\"-\")) != 4:\n",
    "        raise ValueError(f\"PAY_CARD_NUMBER is not valid: {number}\")\n",
    "    print(f\"[PAY CARD]\\nType: {type}\\nNumber: {number}\\nDate: {exp}\\nCVC: {cvc}\\n\")\n",
    "    print(f\"[FINAL PAY ACTION]: {False if true_pay == '0' else True}\")\n"
   ]
  },
  {
   "cell_type": "code",
   "execution_count": 7,
   "metadata": {},
   "outputs": [
    {
     "data": {
      "text/plain": [
       "{'identifier': '2'}"
      ]
     },
     "execution_count": 7,
     "metadata": {},
     "output_type": "execute_result"
    }
   ],
   "source": [
    "# Driver\n",
    "from selenium import webdriver\n",
    "from selenium.webdriver.chrome.options import Options\n",
    "from selenium.webdriver.common.by import By\n",
    "from selenium.webdriver.support.ui import WebDriverWait\n",
    "from selenium.webdriver.support import expected_conditions as EC\n",
    "from urllib.parse import urlparse\n",
    "from urllib.parse import parse_qs\n",
    "\n",
    "options = Options()\n",
    "\n",
    "options.add_experimental_option(\"excludeSwitches\", [\"enable-automation\"])\n",
    "options.add_experimental_option(\"useAutomationExtension\", False)\n",
    "\n",
    "options.add_argument(\"user-agent=Mozilla/5.0 (Windows NT 10.0; Win64; x64) AppleWebKit/537.36 (KHTML, like Gecko) Chrome/136.0.0.0 Safari/537.36\")\n",
    "options.add_argument(\"--disable-blink-features=AutomationControlled\")\n",
    "\n",
    "driver = webdriver.Chrome(options=options)\n",
    "driver.execute_cdp_cmd(\"Page.addScriptToEvaluateOnNewDocument\", {\n",
    "   \"source\": \"\"\"Object.defineProperty(navigator, 'webdriver', {get: () => undefined})\"\"\",\n",
    "})"
   ]
  },
  {
   "cell_type": "markdown",
   "metadata": {},
   "source": [
    "# Login"
   ]
  },
  {
   "cell_type": "code",
   "execution_count": 8,
   "metadata": {},
   "outputs": [
    {
     "data": {
      "text/plain": [
       "<selenium.webdriver.remote.webelement.WebElement (session=\"303840c3af1e960d9d91f39f156d7d32\", element=\"f.20BC91EA7856DCEDAF1BB0656B3F6F4E.d.3A4145B3F0B365890EFBB033E44D5379.e.40\")>"
      ]
     },
     "execution_count": 8,
     "metadata": {},
     "output_type": "execute_result"
    }
   ],
   "source": [
    "driver.get('https://geng.fan/login')\n",
    "WebDriverWait(driver, 10).until(\n",
    "    EC.presence_of_element_located((By.NAME, \"email\"))\n",
    ")\n",
    "\n",
    "driver.find_element(By.NAME, \"email\").send_keys(UserEnv.email)\n",
    "driver.find_element(By.NAME, \"password\").send_keys(UserEnv.password)\n",
    "driver.find_element(By.CSS_SELECTOR, \"button[type='submit']\").click()\n",
    "WebDriverWait(driver, 10).until(\n",
    "    EC.presence_of_element_located((By.CSS_SELECTOR, \"div[class*='_bgImage']\"))\n",
    ")"
   ]
  },
  {
   "cell_type": "markdown",
   "metadata": {},
   "source": [
    "# Production"
   ]
  },
  {
   "cell_type": "code",
   "execution_count": null,
   "metadata": {},
   "outputs": [
    {
     "name": "stdout",
     "output_type": "stream",
     "text": [
      "2025-05-27 18:30:33.960809 - Waiting for production page ready..."
     ]
    }
   ],
   "source": [
    "from datetime import datetime, timedelta\n",
    "from time import sleep as time_sleep\n",
    "\n",
    "ready = False\n",
    "while not ready:\n",
    "    try:\n",
    "        driver.get(f\"https://geng.fan/shop/kr/products/{JobEnv.production_id}/option\")\n",
    "        WebDriverWait(driver, 1).until(\n",
    "            EC.presence_of_element_located((By.CSS_SELECTOR, \"button[class*='ProductButton_btn']\"))\n",
    "        )\n",
    "        print(f\"\\r{datetime.now()} - Production page ready\")\n",
    "        ready = True\n",
    "    except:\n",
    "        print(f\"\\r{datetime.now()} - Waiting for production page ready...\", end=\"\")\n",
    "\n",
    "# Pending process\n",
    "target_time = datetime.strptime(JobEnv.start_date + JobEnv.start_time, \"%Y-%m-%d%H:%M\")\n",
    "if datetime.now() > target_time:\n",
    "    pass\n",
    "else:\n",
    "    # Prepare for pre seconds before 10 seconds\n",
    "    while datetime.now() < target_time - timedelta(seconds=10):\n",
    "        time_sleep(1)\n",
    "        print(f\"\\r{datetime.now()}\", end=\"\")\n",
    "    \n",
    "    # last refresh\n",
    "    driver.refresh()\n",
    "        \n",
    "    while datetime.now() < target_time:\n",
    "        print(f\"\\r{datetime.now()}\", end=\"\")\n",
    "\n",
    "print(f\"\\r{datetime.now()} - Job start!!\")\n"
   ]
  },
  {
   "cell_type": "code",
   "execution_count": 33,
   "metadata": {},
   "outputs": [
    {
     "data": {
      "text/plain": [
       "[<selenium.webdriver.remote.webelement.WebElement (session=\"962e419daee6c0d0f4c0ec790c3922ce\", element=\"f.BC7BBD972C57B347FAE49E2238B955C3.d.8C07B0662C6475CA7F3C113A85158865.e.17750\")>]"
      ]
     },
     "execution_count": 33,
     "metadata": {},
     "output_type": "execute_result"
    }
   ],
   "source": [
    "# Checkout\n",
    "# [WARNING] 重試機制不確定\n",
    "\n",
    "while not driver.find_element(By.CSS_SELECTOR, \"button[class*='ProductButton_btn']\").is_enabled():\n",
    "    driver.refresh()\n",
    "    WebDriverWait(driver, 1).until(\n",
    "        EC.presence_of_element_located((By.CSS_SELECTOR, \"button[class*='ProductButton_btn']\"))\n",
    "    )\n",
    "driver.find_element(By.CSS_SELECTOR, \"button[class*='ProductButton_btn']\").click()\n"
   ]
  },
  {
   "cell_type": "markdown",
   "metadata": {},
   "source": [
    "# Checkout"
   ]
  },
  {
   "cell_type": "code",
   "execution_count": 39,
   "metadata": {},
   "outputs": [],
   "source": [
    "# driver.get(\"https://geng.fan/shop/kr/checkout/2356310322475228\")\n",
    "WebDriverWait(driver, 10).until(\n",
    "    EC.presence_of_element_located((By.CSS_SELECTOR, \"label[class*='PaymentButtonSection_checkbox']\"))\n",
    ")\n",
    "\n",
    "driver.find_element(By.CSS_SELECTOR, \"label[class*='PaymentButtonSection_checkbox']\").click()\n",
    "# cache url\n",
    "cache_url = driver.current_url\n",
    "driver.find_element(By.CSS_SELECTOR, \"button[class*='PaymentButton_button']\").click()"
   ]
  },
  {
   "cell_type": "code",
   "execution_count": 10,
   "metadata": {},
   "outputs": [],
   "source": [
    "# driver.get(\"https://payment-gateway.tosspayments.com/pc?token=eea39d3d2572448083c7abf55e23660aba122ed9dc6e4fe3b2a9af091b75dd27&gtid=a25052744b8afa6b50940ec911e2f296d07e36c\")\n",
    "WebDriverWait(driver, 10).until(\n",
    "    EC.url_changes(cache_url)\n",
    ")\n",
    "\n",
    "# 重要的只有參數上的Token\n",
    "query_params = urlparse(driver.current_url).query\n",
    "token = parse_qs(query_params)['token'][0]\n",
    "gtid = parse_qs(query_params)['gtid'][0]\n",
    "# 直接進入信用卡輸入頁\n",
    "driver.get(\n",
    "    f\"https://payment-gateway.tosspayments.com/pc/payment-method/card/option?token={token}&gtid={gtid}\"\n",
    "    f\"&cardCode={'4M' if PayCardEnv.type == 'MASTER' else '4V'}\"\n",
    ")"
   ]
  },
  {
   "cell_type": "code",
   "execution_count": 6,
   "metadata": {},
   "outputs": [],
   "source": [
    "# driver.get(\"https://payment-gateway.tosspayments.com/pc/payment-method/card/option?token=66ec41ff1e3a431f9c6a7a442213a2cab31b2c00f36648e5b5dd7f3ad956f2fe&gtid=a250520d24f2b82f335414780844519190e584a&cardCode=4M\")\n",
    "WebDriverWait(driver, 10).until(\n",
    "    EC.presence_of_all_elements_located((By.CSS_SELECTOR, \"label[class*='payment-gateway-cache']\"))\n",
    ")\n",
    "\n",
    "input_card_number_set = PayCardEnv.number.split(\"-\")\n",
    "for i, card_number in enumerate(input_card_number_set):\n",
    "    driver.find_element(By.NAME, f\"cardNumber.{i}\").send_keys(card_number)\n",
    "driver.find_element(By.NAME, \"cardExpiry\").send_keys(PayCardEnv.exp)\n",
    "# [WARNING]寫死的label定位\n",
    "driver.find_element(\n",
    "    By.CSS_SELECTOR, \"label[class*='payment-gateway-cache'][for='radix-:rc:']\"\n",
    ").click()"
   ]
  },
  {
   "cell_type": "markdown",
   "metadata": {},
   "source": [
    "# Submit"
   ]
  },
  {
   "cell_type": "code",
   "execution_count": null,
   "metadata": {},
   "outputs": [],
   "source": [
    "if PayCardEnv.true_pay != \"0\":\n",
    "    # [WARNING]寫死的button定位\n",
    "    driver.find_element(\n",
    "        By.CSS_SELECTOR, \"button[class*='payment-gateway-cache'][type='submit']\"\n",
    "    ).click()"
   ]
  },
  {
   "cell_type": "code",
   "execution_count": 11,
   "metadata": {},
   "outputs": [],
   "source": [
    "driver.quit()"
   ]
  },
  {
   "cell_type": "code",
   "execution_count": null,
   "metadata": {},
   "outputs": [],
   "source": []
  }
 ],
 "metadata": {
  "kernelspec": {
   "display_name": "venv",
   "language": "python",
   "name": "python3"
  },
  "language_info": {
   "codemirror_mode": {
    "name": "ipython",
    "version": 3
   },
   "file_extension": ".py",
   "mimetype": "text/x-python",
   "name": "python",
   "nbconvert_exporter": "python",
   "pygments_lexer": "ipython3",
   "version": "3.12.4"
  }
 },
 "nbformat": 4,
 "nbformat_minor": 2
}
